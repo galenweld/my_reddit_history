{
 "cells": [
  {
   "cell_type": "code",
   "execution_count": 1,
   "metadata": {},
   "outputs": [],
   "source": [
    "import json\n",
    "import requests\n",
    "import datetime\n",
    "from time import sleep"
   ]
  },
  {
   "cell_type": "code",
   "execution_count": 2,
   "metadata": {},
   "outputs": [],
   "source": [
    "endpoint = f'https://old.reddit.com/user/cyclistNerd.json?limit=100'\n",
    "headers = {\n",
    "    'User-Agent' : 'cyclistNerd_scrape_self',\n",
    "}"
   ]
  },
  {
   "cell_type": "code",
   "execution_count": 6,
   "metadata": {},
   "outputs": [
    {
     "name": "stdout",
     "output_type": "stream",
     "text": [
      "( 1) Requesting API for most recent content.\n",
      "\tReceived 100 items from Apr 09, 2021 to Jul 15, 2020.\n",
      "( 2) Requesting API  with query_string &after=t1_fy7cwss\n",
      "\tReceived 100 items from Jul 15, 2020 to Sep 17, 2019.\n",
      "( 3) Requesting API  with query_string &after=t1_f0n6zs7\n",
      "\tReceived 100 items from Sep 17, 2019 to Jan 06, 2019.\n",
      "( 4) Requesting API  with query_string &after=t1_edg6zae\n",
      "\tReceived 100 items from Jan 06, 2019 to Oct 04, 2018.\n",
      "( 5) Requesting API  with query_string &after=t1_e777zlb\n",
      "\tReceived 100 items from Oct 04, 2018 to Nov 09, 2017.\n",
      "( 6) Requesting API  with query_string &after=t1_dpkwhi2\n",
      "\tReceived 100 items from Nov 05, 2017 to Jul 08, 2017.\n",
      "( 7) Requesting API  with query_string &after=t1_djxu6wd\n",
      "\tReceived 100 items from Jul 08, 2017 to Jun 21, 2017.\n",
      "( 8) Requesting API  with query_string &after=t1_dj80nwv\n",
      "\tReceived 100 items from Jun 13, 2017 to Apr 18, 2017.\n",
      "( 9) Requesting API  with query_string &after=t1_dgfhx4y\n",
      "\tReceived 100 items from Apr 18, 2017 to Mar 24, 2017.\n",
      "(10) Requesting API  with query_string &after=t1_dfckgkg\n",
      "\tReceived 100 items from Mar 24, 2017 to Mar 13, 2017.\n",
      "(11) Requesting API  with query_string &after=t1_devxg5f\n",
      "\tReceived 100 items from Mar 13, 2017 to Jan 02, 2016.\n",
      "(12) Requesting API  with query_string &after=t3_3z4cjy\n",
      "\tReceived 55 items from Nov 02, 2015 to Mar 05, 2013.\n",
      "Reached end of listing. Retrieved 1,155 total items with 12 requests.\n"
     ]
    }
   ],
   "source": [
    "content = []\n",
    "num_requests = 1\n",
    "query_string = ''\n",
    "\n",
    "while query_string is not None:   \n",
    "    print(f'({num_requests:2d}) Requesting API ' + (f' with query_string {query_string}' if query_string != '' else 'for most recent content.'))\n",
    "    response = requests.get(endpoint+query_string, headers=headers).json()\n",
    "    \n",
    "    data = response[\"data\"][\"children\"]\n",
    "    newest = datetime.datetime.fromtimestamp( data[ 0]['data']['created_utc'] )\n",
    "    oldest = datetime.datetime.fromtimestamp( data[-1]['data']['created_utc'] )\n",
    "    print(f\"\\tReceived {len(data):,d} items from {newest.strftime('%b %d, %Y')} to {oldest.strftime('%b %d, %Y')}.\")\n",
    "    content += data # append to keep ordering correct\n",
    "    \n",
    "    after = response['data']['after']\n",
    "    query_string = f\"&after={after}\" if after is not None else None\n",
    "          \n",
    "    if after is None:\n",
    "          print(f'Reached end of listing. Retrieved {len(content):,d} total items with {num_requests:,d} requests.')\n",
    "          \n",
    "    num_requests += 1\n",
    "    \n",
    "    sleep(1)"
   ]
  },
  {
   "cell_type": "code",
   "execution_count": 9,
   "metadata": {},
   "outputs": [
    {
     "data": {
      "text/plain": [
       "True"
      ]
     },
     "execution_count": 9,
     "metadata": {},
     "output_type": "execute_result"
    }
   ],
   "source": [
    "# check sorting\n",
    "all(datetime.datetime.fromtimestamp( content[i]['data']['created_utc'] ) >= datetime.datetime.fromtimestamp( content[i+1]['data']['created_utc'] ) for i in range(len(content)-1))\n"
   ]
  },
  {
   "cell_type": "code",
   "execution_count": 11,
   "metadata": {},
   "outputs": [],
   "source": [
    "# check duplicates\n",
    "ids = set()\n",
    "\n",
    "for i in map(lambda i: i['data']['id'], content):\n",
    "    if i in ids: print(f'Duplicate on {i}')\n",
    "    else:\n",
    "        ids.add(i)"
   ]
  },
  {
   "cell_type": "markdown",
   "metadata": {},
   "source": [
    "# write to file"
   ]
  },
  {
   "cell_type": "code",
   "execution_count": 15,
   "metadata": {},
   "outputs": [
    {
     "name": "stdout",
     "output_type": "stream",
     "text": [
      "Finished. Wrote 1,155 to file.\n"
     ]
    }
   ],
   "source": [
    "num_written = 0\n",
    "\n",
    "with open('history.jsonl', 'w') as f:\n",
    "    for post in content:\n",
    "        f.write( json.dumps(post) + '\\n' )\n",
    "        num_written += 1\n",
    "    \n",
    "print(f'Finished. Wrote {num_written:,d} to file.')"
   ]
  },
  {
   "cell_type": "code",
   "execution_count": null,
   "metadata": {},
   "outputs": [],
   "source": []
  }
 ],
 "metadata": {
  "kernelspec": {
   "display_name": "Python [conda env:reddit_moderation]",
   "language": "python",
   "name": "conda-env-reddit_moderation-py"
  },
  "language_info": {
   "codemirror_mode": {
    "name": "ipython",
    "version": 3
   },
   "file_extension": ".py",
   "mimetype": "text/x-python",
   "name": "python",
   "nbconvert_exporter": "python",
   "pygments_lexer": "ipython3",
   "version": "3.7.4"
  }
 },
 "nbformat": 4,
 "nbformat_minor": 2
}
