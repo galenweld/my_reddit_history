{
 "cells": [
  {
   "cell_type": "code",
   "execution_count": 33,
   "metadata": {},
   "outputs": [],
   "source": [
    "import pandas as pd\n",
    "import matplotlib.pyplot as plt\n",
    "from datetime import datetime as datetime"
   ]
  },
  {
   "cell_type": "code",
   "execution_count": 2,
   "metadata": {},
   "outputs": [],
   "source": [
    " plt.rcParams[\"font.family\"] = \"sans-serif\""
   ]
  },
  {
   "cell_type": "code",
   "execution_count": 3,
   "metadata": {},
   "outputs": [],
   "source": [
    "df = pd.read_json('history.jsonl', lines=True)"
   ]
  },
  {
   "cell_type": "code",
   "execution_count": 4,
   "metadata": {},
   "outputs": [],
   "source": [
    "# expand out collapsed columns\n",
    "df = pd.concat([df, pd.DataFrame((col for col_name, col in df['data'].iteritems()))], axis='columns')\n",
    "df = df.drop('data', axis='columns')"
   ]
  },
  {
   "cell_type": "code",
   "execution_count": 5,
   "metadata": {},
   "outputs": [],
   "source": [
    "df['fullname'] = df.kind + '_' + df.id"
   ]
  },
  {
   "cell_type": "code",
   "execution_count": 6,
   "metadata": {},
   "outputs": [],
   "source": [
    "df['kind'] = df['kind'].replace('t1', 'comment').replace('t3', 'post')"
   ]
  },
  {
   "cell_type": "code",
   "execution_count": 7,
   "metadata": {},
   "outputs": [],
   "source": [
    "cols_to_keep = [\n",
    "    'kind',\n",
    "    'created_utc',\n",
    "    'score',\n",
    "    'body',\n",
    "    'is_submitter',\n",
    "    'distinguished',\n",
    "    'subreddit',\n",
    "    'selftext',\n",
    "    'title',\n",
    "    'url',\n",
    "]"
   ]
  },
  {
   "cell_type": "code",
   "execution_count": 8,
   "metadata": {},
   "outputs": [],
   "source": [
    "df = df.drop([c for c in df.columns if c not in cols_to_keep], axis='columns')"
   ]
  },
  {
   "cell_type": "code",
   "execution_count": 9,
   "metadata": {},
   "outputs": [],
   "source": [
    "df['created_utc'] = pd.to_datetime(df.created_utc, unit='s')"
   ]
  },
  {
   "cell_type": "code",
   "execution_count": 10,
   "metadata": {},
   "outputs": [],
   "source": [
    "df.index = df.created_utc"
   ]
  },
  {
   "cell_type": "code",
   "execution_count": 11,
   "metadata": {},
   "outputs": [],
   "source": [
    "df = df.sort_index(ascending=True) # must be ascending for rolling functions"
   ]
  },
  {
   "cell_type": "code",
   "execution_count": 12,
   "metadata": {},
   "outputs": [
    {
     "data": {
      "text/html": [
       "<div>\n",
       "<style scoped>\n",
       "    .dataframe tbody tr th:only-of-type {\n",
       "        vertical-align: middle;\n",
       "    }\n",
       "\n",
       "    .dataframe tbody tr th {\n",
       "        vertical-align: top;\n",
       "    }\n",
       "\n",
       "    .dataframe thead th {\n",
       "        text-align: right;\n",
       "    }\n",
       "</style>\n",
       "<table border=\"1\" class=\"dataframe\">\n",
       "  <thead>\n",
       "    <tr style=\"text-align: right;\">\n",
       "      <th></th>\n",
       "      <th>kind</th>\n",
       "      <th>created_utc</th>\n",
       "      <th>score</th>\n",
       "      <th>body</th>\n",
       "      <th>is_submitter</th>\n",
       "      <th>distinguished</th>\n",
       "      <th>subreddit</th>\n",
       "      <th>selftext</th>\n",
       "      <th>title</th>\n",
       "      <th>url</th>\n",
       "    </tr>\n",
       "    <tr>\n",
       "      <th>created_utc</th>\n",
       "      <th></th>\n",
       "      <th></th>\n",
       "      <th></th>\n",
       "      <th></th>\n",
       "      <th></th>\n",
       "      <th></th>\n",
       "      <th></th>\n",
       "      <th></th>\n",
       "      <th></th>\n",
       "      <th></th>\n",
       "    </tr>\n",
       "  </thead>\n",
       "  <tbody>\n",
       "    <tr>\n",
       "      <td>2013-03-05 10:10:10</td>\n",
       "      <td>post</td>\n",
       "      <td>2013-03-05 10:10:10</td>\n",
       "      <td>4</td>\n",
       "      <td>NaN</td>\n",
       "      <td>NaN</td>\n",
       "      <td>None</td>\n",
       "      <td>wildernessmedicine</td>\n",
       "      <td>Last summer I took got my WFR with Remote Medi...</td>\n",
       "      <td>Ideas for Continuing to Practice Skills</td>\n",
       "      <td>https://old.reddit.com/r/wildernessmedicine/co...</td>\n",
       "    </tr>\n",
       "    <tr>\n",
       "      <td>2013-03-27 19:39:12</td>\n",
       "      <td>post</td>\n",
       "      <td>2013-03-27 19:39:12</td>\n",
       "      <td>16</td>\n",
       "      <td>NaN</td>\n",
       "      <td>NaN</td>\n",
       "      <td>None</td>\n",
       "      <td>Seattle</td>\n",
       "      <td></td>\n",
       "      <td>Seattle considering a bid for the 2024 Summer ...</td>\n",
       "      <td>http://blog.seattlepi.com/seattlesports/2013/0...</td>\n",
       "    </tr>\n",
       "    <tr>\n",
       "      <td>2013-05-01 06:49:11</td>\n",
       "      <td>post</td>\n",
       "      <td>2013-05-01 06:49:11</td>\n",
       "      <td>17</td>\n",
       "      <td>NaN</td>\n",
       "      <td>NaN</td>\n",
       "      <td>None</td>\n",
       "      <td>canyoneering</td>\n",
       "      <td></td>\n",
       "      <td>Rappelling into the Jug of Salome Creek, Az</td>\n",
       "      <td>https://www.dropbox.com/sh/7f2gdx5q2hvaghj/bMU...</td>\n",
       "    </tr>\n",
       "    <tr>\n",
       "      <td>2013-05-09 05:37:18</td>\n",
       "      <td>post</td>\n",
       "      <td>2013-05-09 05:37:18</td>\n",
       "      <td>8</td>\n",
       "      <td>NaN</td>\n",
       "      <td>NaN</td>\n",
       "      <td>None</td>\n",
       "      <td>canyoneering</td>\n",
       "      <td></td>\n",
       "      <td>Down The Line - Canyoneering outside of Vancou...</td>\n",
       "      <td>http://vimeo.com/64671839</td>\n",
       "    </tr>\n",
       "    <tr>\n",
       "      <td>2013-06-13 11:07:32</td>\n",
       "      <td>post</td>\n",
       "      <td>2013-06-13 11:07:32</td>\n",
       "      <td>3</td>\n",
       "      <td>NaN</td>\n",
       "      <td>NaN</td>\n",
       "      <td>None</td>\n",
       "      <td>photography</td>\n",
       "      <td>So I've reached a point in my photography wher...</td>\n",
       "      <td>What to do with my pictures?</td>\n",
       "      <td>https://old.reddit.com/r/photography/comments/...</td>\n",
       "    </tr>\n",
       "    <tr>\n",
       "      <td>...</td>\n",
       "      <td>...</td>\n",
       "      <td>...</td>\n",
       "      <td>...</td>\n",
       "      <td>...</td>\n",
       "      <td>...</td>\n",
       "      <td>...</td>\n",
       "      <td>...</td>\n",
       "      <td>...</td>\n",
       "      <td>...</td>\n",
       "      <td>...</td>\n",
       "    </tr>\n",
       "    <tr>\n",
       "      <td>2021-03-28 18:53:29</td>\n",
       "      <td>comment</td>\n",
       "      <td>2021-03-28 18:53:29</td>\n",
       "      <td>2</td>\n",
       "      <td>Doesn't look too slow to me 😉</td>\n",
       "      <td>False</td>\n",
       "      <td>None</td>\n",
       "      <td>skiing</td>\n",
       "      <td>NaN</td>\n",
       "      <td>NaN</td>\n",
       "      <td>NaN</td>\n",
       "    </tr>\n",
       "    <tr>\n",
       "      <td>2021-03-31 06:13:22</td>\n",
       "      <td>comment</td>\n",
       "      <td>2021-03-31 06:13:22</td>\n",
       "      <td>1</td>\n",
       "      <td>This comment has been removed as it violates R...</td>\n",
       "      <td>False</td>\n",
       "      <td>moderator</td>\n",
       "      <td>photocritique</td>\n",
       "      <td>NaN</td>\n",
       "      <td>NaN</td>\n",
       "      <td>NaN</td>\n",
       "    </tr>\n",
       "    <tr>\n",
       "      <td>2021-04-01 17:46:46</td>\n",
       "      <td>comment</td>\n",
       "      <td>2021-04-01 17:46:46</td>\n",
       "      <td>34</td>\n",
       "      <td>Baja blast edition lmao</td>\n",
       "      <td>False</td>\n",
       "      <td>None</td>\n",
       "      <td>subaru</td>\n",
       "      <td>NaN</td>\n",
       "      <td>NaN</td>\n",
       "      <td>NaN</td>\n",
       "    </tr>\n",
       "    <tr>\n",
       "      <td>2021-04-05 23:43:02</td>\n",
       "      <td>comment</td>\n",
       "      <td>2021-04-05 23:43:02</td>\n",
       "      <td>-2</td>\n",
       "      <td>Love the bootpack straight up the exit 🤦</td>\n",
       "      <td>False</td>\n",
       "      <td>None</td>\n",
       "      <td>Backcountry</td>\n",
       "      <td>NaN</td>\n",
       "      <td>NaN</td>\n",
       "      <td>NaN</td>\n",
       "    </tr>\n",
       "    <tr>\n",
       "      <td>2021-04-10 05:05:54</td>\n",
       "      <td>comment</td>\n",
       "      <td>2021-04-10 05:05:54</td>\n",
       "      <td>1</td>\n",
       "      <td>many times</td>\n",
       "      <td>False</td>\n",
       "      <td>None</td>\n",
       "      <td>Backcountry</td>\n",
       "      <td>NaN</td>\n",
       "      <td>NaN</td>\n",
       "      <td>NaN</td>\n",
       "    </tr>\n",
       "  </tbody>\n",
       "</table>\n",
       "<p>1155 rows × 10 columns</p>\n",
       "</div>"
      ],
      "text/plain": [
       "                        kind         created_utc  score  \\\n",
       "created_utc                                               \n",
       "2013-03-05 10:10:10     post 2013-03-05 10:10:10      4   \n",
       "2013-03-27 19:39:12     post 2013-03-27 19:39:12     16   \n",
       "2013-05-01 06:49:11     post 2013-05-01 06:49:11     17   \n",
       "2013-05-09 05:37:18     post 2013-05-09 05:37:18      8   \n",
       "2013-06-13 11:07:32     post 2013-06-13 11:07:32      3   \n",
       "...                      ...                 ...    ...   \n",
       "2021-03-28 18:53:29  comment 2021-03-28 18:53:29      2   \n",
       "2021-03-31 06:13:22  comment 2021-03-31 06:13:22      1   \n",
       "2021-04-01 17:46:46  comment 2021-04-01 17:46:46     34   \n",
       "2021-04-05 23:43:02  comment 2021-04-05 23:43:02     -2   \n",
       "2021-04-10 05:05:54  comment 2021-04-10 05:05:54      1   \n",
       "\n",
       "                                                                  body  \\\n",
       "created_utc                                                              \n",
       "2013-03-05 10:10:10                                                NaN   \n",
       "2013-03-27 19:39:12                                                NaN   \n",
       "2013-05-01 06:49:11                                                NaN   \n",
       "2013-05-09 05:37:18                                                NaN   \n",
       "2013-06-13 11:07:32                                                NaN   \n",
       "...                                                                ...   \n",
       "2021-03-28 18:53:29                      Doesn't look too slow to me 😉   \n",
       "2021-03-31 06:13:22  This comment has been removed as it violates R...   \n",
       "2021-04-01 17:46:46                            Baja blast edition lmao   \n",
       "2021-04-05 23:43:02           Love the bootpack straight up the exit 🤦   \n",
       "2021-04-10 05:05:54                                         many times   \n",
       "\n",
       "                    is_submitter distinguished           subreddit  \\\n",
       "created_utc                                                          \n",
       "2013-03-05 10:10:10          NaN          None  wildernessmedicine   \n",
       "2013-03-27 19:39:12          NaN          None             Seattle   \n",
       "2013-05-01 06:49:11          NaN          None        canyoneering   \n",
       "2013-05-09 05:37:18          NaN          None        canyoneering   \n",
       "2013-06-13 11:07:32          NaN          None         photography   \n",
       "...                          ...           ...                 ...   \n",
       "2021-03-28 18:53:29        False          None              skiing   \n",
       "2021-03-31 06:13:22        False     moderator       photocritique   \n",
       "2021-04-01 17:46:46        False          None              subaru   \n",
       "2021-04-05 23:43:02        False          None         Backcountry   \n",
       "2021-04-10 05:05:54        False          None         Backcountry   \n",
       "\n",
       "                                                              selftext  \\\n",
       "created_utc                                                              \n",
       "2013-03-05 10:10:10  Last summer I took got my WFR with Remote Medi...   \n",
       "2013-03-27 19:39:12                                                      \n",
       "2013-05-01 06:49:11                                                      \n",
       "2013-05-09 05:37:18                                                      \n",
       "2013-06-13 11:07:32  So I've reached a point in my photography wher...   \n",
       "...                                                                ...   \n",
       "2021-03-28 18:53:29                                                NaN   \n",
       "2021-03-31 06:13:22                                                NaN   \n",
       "2021-04-01 17:46:46                                                NaN   \n",
       "2021-04-05 23:43:02                                                NaN   \n",
       "2021-04-10 05:05:54                                                NaN   \n",
       "\n",
       "                                                                 title  \\\n",
       "created_utc                                                              \n",
       "2013-03-05 10:10:10            Ideas for Continuing to Practice Skills   \n",
       "2013-03-27 19:39:12  Seattle considering a bid for the 2024 Summer ...   \n",
       "2013-05-01 06:49:11        Rappelling into the Jug of Salome Creek, Az   \n",
       "2013-05-09 05:37:18  Down The Line - Canyoneering outside of Vancou...   \n",
       "2013-06-13 11:07:32                       What to do with my pictures?   \n",
       "...                                                                ...   \n",
       "2021-03-28 18:53:29                                                NaN   \n",
       "2021-03-31 06:13:22                                                NaN   \n",
       "2021-04-01 17:46:46                                                NaN   \n",
       "2021-04-05 23:43:02                                                NaN   \n",
       "2021-04-10 05:05:54                                                NaN   \n",
       "\n",
       "                                                                   url  \n",
       "created_utc                                                             \n",
       "2013-03-05 10:10:10  https://old.reddit.com/r/wildernessmedicine/co...  \n",
       "2013-03-27 19:39:12  http://blog.seattlepi.com/seattlesports/2013/0...  \n",
       "2013-05-01 06:49:11  https://www.dropbox.com/sh/7f2gdx5q2hvaghj/bMU...  \n",
       "2013-05-09 05:37:18                          http://vimeo.com/64671839  \n",
       "2013-06-13 11:07:32  https://old.reddit.com/r/photography/comments/...  \n",
       "...                                                                ...  \n",
       "2021-03-28 18:53:29                                                NaN  \n",
       "2021-03-31 06:13:22                                                NaN  \n",
       "2021-04-01 17:46:46                                                NaN  \n",
       "2021-04-05 23:43:02                                                NaN  \n",
       "2021-04-10 05:05:54                                                NaN  \n",
       "\n",
       "[1155 rows x 10 columns]"
      ]
     },
     "execution_count": 12,
     "metadata": {},
     "output_type": "execute_result"
    }
   ],
   "source": [
    "df"
   ]
  },
  {
   "cell_type": "code",
   "execution_count": 24,
   "metadata": {},
   "outputs": [
    {
     "data": {
      "image/png": "[encoded data removed]",
      "text/plain": [
       "<Figure size 432x288 with 1 Axes>"
      ]
     },
     "metadata": {
      "needs_background": "light"
     },
     "output_type": "display_data"
    }
   ],
   "source": [
    "df.score.rolling(window='1D').mean().plot()\n",
    "plt.ylabel('Score averaged over 30 days')\n",
    "plt.show()"
   ]
  },
  {
   "cell_type": "code",
   "execution_count": 51,
   "metadata": {},
   "outputs": [
    {
     "data": {
      "image/png": "[encoded data removed]",
      "text/plain": [
       "<Figure size 216x288 with 1 Axes>"
      ]
     },
     "metadata": {
      "needs_background": "light"
     },
     "output_type": "display_data"
    }
   ],
   "source": [
    "plt.figure(figsize=(3, 4))\n",
    "\n",
    "plt.scatter(y=df.loc[df.created_utc<datetime(2017, 1, 1), 'score'], x=df.loc[df.created_utc<datetime(2017, 1, 1), 'created_utc'], s=1)\n",
    "\n",
    "plt.ylim()\n",
    "\n",
    "plt.xticks([datetime(y, 1, 1) for y in range(2013, 2018)], [str(y) for y in range(2013, 2018)])\n",
    "\n",
    "plt.title('Post Score over Time')\n",
    "plt.xlabel('Time')\n",
    "plt.ylabel('Score')\n",
    "plt.show()"
   ]
  },
  {
   "cell_type": "code",
   "execution_count": 21,
   "metadata": {},
   "outputs": [
    {
     "data": {
      "image/png": "[encoded data removed]",
      "text/plain": [
       "<Figure size 432x288 with 1 Axes>"
      ]
     },
     "metadata": {
      "needs_background": "light"
     },
     "output_type": "display_data"
    }
   ],
   "source": [
    "df.loc[(df.kind=='post'   ) & (df.distinguished!='moderator'), 'score'].rolling(window='90D').mean().plot(label='Posts')\n",
    "df.loc[(df.kind=='comment') & (df.distinguished!='moderator'), 'score'].rolling(window='90D').mean().plot(label='Comments')\n",
    "plt.legend()\n",
    "plt.ylabel('Mean Score')\n",
    "\n",
    "plt.show()"
   ]
  },
  {
   "cell_type": "code",
   "execution_count": 23,
   "metadata": {},
   "outputs": [
    {
     "data": {
      "image/png": "[encoded data removed]",
      "text/plain": [
       "<Figure size 432x216 with 1 Axes>"
      ]
     },
     "metadata": {
      "needs_background": "light"
     },
     "output_type": "display_data"
    }
   ],
   "source": [
    "plt.figure(figsize=(6, 3))\n",
    "\n",
    "\n",
    "df.loc[(df.kind=='post'   ) & (df.distinguished!='moderator'), 'score'].rolling(window='90D').count().plot(label='Posts')\n",
    "df.loc[(df.kind=='comment') & (df.distinguished!='moderator'), 'score'].rolling(window='90D').count().plot(label='Comments')\n",
    "df.loc[df.distinguished=='moderator', 'score'].                         rolling(window='90D').count().plot(label='Mod')\n",
    "plt.legend()\n",
    "plt.ylabel('Volume per Month')\n",
    "plt.title('Activity over Time')\n",
    "plt.xlabel('Time')\n",
    "plt.show()"
   ]
  },
  {
   "cell_type": "code",
   "execution_count": 16,
   "metadata": {},
   "outputs": [
    {
     "data": {
      "text/plain": [
       "photocritique         89\n",
       "SeattleWA             57\n",
       "photography           49\n",
       "AnalogCommunity       41\n",
       "largeformat           39\n",
       "                      ..\n",
       "ImagesOfWashington     1\n",
       "tradclimbing           1\n",
       "VacationColorado       1\n",
       "Whatcouldgowrong       1\n",
       "RemarkableTablet       1\n",
       "Name: subreddit, Length: 63, dtype: int64"
      ]
     },
     "execution_count": 16,
     "metadata": {},
     "output_type": "execute_result"
    }
   ],
   "source": [
    "df.loc[(df.kind=='comment') & (df.distinguished!='moderator'),'subreddit'].value_counts()"
   ]
  },
  {
   "cell_type": "code",
   "execution_count": 17,
   "metadata": {},
   "outputs": [
    {
     "data": {
      "text/plain": [
       "unitedstatesofamerica    25\n",
       "EarthPorn                17\n",
       "Seattle                  10\n",
       "photocritique            10\n",
       "skiing                    8\n",
       "analog                    7\n",
       "photography               7\n",
       "LandscapeAstro            5\n",
       "AnalogCommunity           5\n",
       "AbstractPhotos            4\n",
       "Backcountry               4\n",
       "SeattleWA                 4\n",
       "largeformat               4\n",
       "subaru                    4\n",
       "canyoneering              3\n",
       "Adirondacks               3\n",
       "telephotolandscapes       2\n",
       "phcritiquetest            2\n",
       "cars                      2\n",
       "pushshift                 2\n",
       "SonyAlpha                 2\n",
       "hackintosh                2\n",
       "inbox                     1\n",
       "SampleSize                1\n",
       "aww                       1\n",
       "bicycling                 1\n",
       "ricohGR                   1\n",
       "travel                    1\n",
       "amateurradio              1\n",
       "udub                      1\n",
       "me_irl                    1\n",
       "coloradohikers            1\n",
       "alpinism                  1\n",
       "2Seattle2Furious          1\n",
       "M43                       1\n",
       "VacationColorado          1\n",
       "Darkroom                  1\n",
       "PeruPics                  1\n",
       "PNWhiking                 1\n",
       "wildernessmedicine        1\n",
       "TheoryOfReddit            1\n",
       "ClimbingPorn              1\n",
       "UnexpectedRemixes         1\n",
       "redditads                 1\n",
       "moto360                   1\n",
       "pics                      1\n",
       "Name: subreddit, dtype: int64"
      ]
     },
     "execution_count": 17,
     "metadata": {},
     "output_type": "execute_result"
    }
   ],
   "source": [
    "df.loc[df.kind=='post','subreddit'].value_counts()"
   ]
  },
  {
   "cell_type": "code",
   "execution_count": 18,
   "metadata": {},
   "outputs": [
    {
     "data": {
      "text/plain": [
       "comment    999\n",
       "post       156\n",
       "Name: kind, dtype: int64"
      ]
     },
     "execution_count": 18,
     "metadata": {},
     "output_type": "execute_result"
    }
   ],
   "source": [
    "df.kind.value_counts()"
   ]
  },
  {
   "cell_type": "code",
   "execution_count": 19,
   "metadata": {},
   "outputs": [
    {
     "data": {
      "text/plain": [
       " 1143      1\n",
       " 863       1\n",
       " 707       1\n",
       " 421       1\n",
       " 339       1\n",
       "        ... \n",
       " 3        97\n",
       " 2       162\n",
       " 1       596\n",
       " 0        10\n",
       "-2         1\n",
       "Name: score, Length: 78, dtype: int64"
      ]
     },
     "execution_count": 19,
     "metadata": {},
     "output_type": "execute_result"
    }
   ],
   "source": [
    "df.score.value_counts().sort_index(ascending=False)"
   ]
  },
  {
   "cell_type": "code",
   "execution_count": 52,
   "metadata": {},
   "outputs": [
    {
     "data": {
      "text/plain": [
       "unitedstatesofamerica    25\n",
       "EarthPorn                13\n",
       "Seattle                   9\n",
       "skiing                    6\n",
       "photography               5\n",
       "subaru                    4\n",
       "analog                    3\n",
       "LandscapeAstro            3\n",
       "photocritique             3\n",
       "AbstractPhotos            2\n",
       "hackintosh                2\n",
       "canyoneering              2\n",
       "cars                      2\n",
       "SonyAlpha                 2\n",
       "UnexpectedRemixes         1\n",
       "ricohGR                   1\n",
       "bicycling                 1\n",
       "PNWhiking                 1\n",
       "ClimbingPorn              1\n",
       "moto360                   1\n",
       "M43                       1\n",
       "inbox                     1\n",
       "Adirondacks               1\n",
       "wildernessmedicine        1\n",
       "PeruPics                  1\n",
       "alpinism                  1\n",
       "me_irl                    1\n",
       "Backcountry               1\n",
       "aww                       1\n",
       "pics                      1\n",
       "Name: subreddit, dtype: int64"
      ]
     },
     "execution_count": 52,
     "metadata": {},
     "output_type": "execute_result"
    }
   ],
   "source": [
    "df.loc[df.created_utc<datetime(2017, 1, 1), 'subreddit'].value_counts()"
   ]
  },
  {
   "cell_type": "code",
   "execution_count": 56,
   "metadata": {},
   "outputs": [
    {
     "data": {
      "text/plain": [
       "(47.24742268041237, 18.0, 103.09876241253609)"
      ]
     },
     "execution_count": 56,
     "metadata": {},
     "output_type": "execute_result"
    }
   ],
   "source": [
    "df.loc[df.created_utc<datetime(2017, 1, 1), 'score'].mean(), df.loc[df.created_utc<datetime(2017, 1, 1), 'score'].median(), df.loc[df.created_utc<datetime(2017, 1, 1), 'score'].std()"
   ]
  },
  {
   "cell_type": "code",
   "execution_count": 63,
   "metadata": {},
   "outputs": [
    {
     "data": {
      "text/plain": [
       "kind                                                          post\n",
       "created_utc                                    2015-10-06 02:40:07\n",
       "score                                                          863\n",
       "body                                                           NaN\n",
       "is_submitter                                                   NaN\n",
       "distinguished                                                 None\n",
       "subreddit                                                  Seattle\n",
       "selftext                                                          \n",
       "title            This photo always makes me happy – A satellite...\n",
       "url                                 http://i.imgur.com/QJmN49t.jpg\n",
       "Name: 2015-10-06 02:40:07, dtype: object"
      ]
     },
     "execution_count": 63,
     "metadata": {},
     "output_type": "execute_result"
    }
   ],
   "source": [
    "df.loc[df.created_utc<datetime(2017, 1, 1)].sort_values(by='score').iloc[-1]"
   ]
  },
  {
   "cell_type": "code",
   "execution_count": 73,
   "metadata": {},
   "outputs": [
    {
     "name": "stdout",
     "output_type": "stream",
     "text": [
      "/r/AnalogCommunity\n",
      "/r/largeformat\n",
      "/r/SeattleWA\n",
      "/r/photocritique\n",
      "/r/PNWhiking\n",
      "/r/photography\n",
      "/r/amateurradio\n",
      "/r/Backcountry\n",
      "/r/pushshift\n",
      "/r/analog\n"
     ]
    }
   ],
   "source": [
    "print(\n",
    "    '\\n'.join( ('/r/' + df.loc[df.created_utc>datetime(2018, 1, 1), 'subreddit'].value_counts()[:10].index).tolist() )\n",
    ")"
   ]
  },
  {
   "cell_type": "code",
   "execution_count": 72,
   "metadata": {},
   "outputs": [
    {
     "data": {
      "text/plain": [
       "Index(['/r/AnalogCommunity', '/r/largeformat', '/r/SeattleWA',\n",
       "       '/r/photocritique', '/r/PNWhiking', '/r/photography', '/r/amateurradio',\n",
       "       '/r/Backcountry', '/r/pushshift', '/r/analog'],\n",
       "      dtype='object')"
      ]
     },
     "execution_count": 72,
     "metadata": {},
     "output_type": "execute_result"
    }
   ],
   "source": [
    "('/r/' + df.loc[df.created_utc>datetime(2018, 1, 1), 'subreddit'].value_counts()[:10].index)"
   ]
  },
  {
   "cell_type": "code",
   "execution_count": null,
   "metadata": {},
   "outputs": [],
   "source": []
  }
 ],
 "metadata": {
  "kernelspec": {
   "display_name": "Python [conda env:reddit_moderation]",
   "language": "python",
   "name": "conda-env-reddit_moderation-py"
  },
  "language_info": {
   "codemirror_mode": {
    "name": "ipython",
    "version": 3
   },
   "file_extension": ".py",
   "mimetype": "text/x-python",
   "name": "python",
   "nbconvert_exporter": "python",
   "pygments_lexer": "ipython3",
   "version": "3.7.4"
  }
 },
 "nbformat": 4,
 "nbformat_minor": 2
}
